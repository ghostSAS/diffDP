{
 "cells": [
  {
   "cell_type": "code",
   "execution_count": 1,
   "metadata": {},
   "outputs": [],
   "source": [
    "import time as time\n",
    "import matplotlib.pyplot as plt\n",
    "import numpy as np\n",
    "\n",
    "import sys\n",
    "sys.path.append('../')\n",
    "\n",
    "from CDDP import *\n",
    "\n",
    "dynamics_sym = simple_pen_sym\n",
    "dynamics_fd = njit(simple_pen, cache=True)\n",
    "\n",
    "n_x, n_u = 2, 1\n",
    "x,u,dt = GetSyms(n_x, n_u)\n",
    "\n",
    "N = 100\n"
   ]
  },
  {
   "attachments": {},
   "cell_type": "markdown",
   "metadata": {},
   "source": [
    "## Jacobian results check (x)\n",
    "    - Symbolic and finte difference give the same results"
   ]
  },
  {
   "cell_type": "code",
   "execution_count": 3,
   "metadata": {},
   "outputs": [
    {
     "name": "stdout",
     "output_type": "stream",
     "text": [
      "[[ 0.97809625  0.0491393 ]\n",
      " [-0.86758217  0.9585629 ]]\n",
      "[0.00494843 0.19656167]\n",
      "[[0.00494843]\n",
      " [0.19656167]]\n"
     ]
    }
   ],
   "source": [
    "f = sp.Matrix(RK4_sym(dt,x,u,dynamics_sym))\n",
    "f_x = f.jacobian(x)\n",
    "f_u = f.jacobian(u)\n",
    "\n",
    "f_sym = sympy_to_numba(f,[dt,x,u])\n",
    "f_x_sym = sympy_to_numba(f_x,[dt,x,u])\n",
    "f_u_sym = sympy_to_numba(f_u,[dt,x,u])\n",
    " \n",
    "dt0, x0, u0 = np.array([.05]), np.random.rand(n_x), np.random.rand(n_u)\n",
    "print(f_x_sym(dt0, x0, u0))\n",
    "print(f_u_sym(dt0, x0, u0))\n",
    "\n",
    "f_xu = finiteDiff(RK4,dynamics_fd, x0, u0, dt0, 1e-4, vec='u')\n",
    "print(f_xu)"
   ]
  },
  {
   "attachments": {},
   "cell_type": "markdown",
   "metadata": {},
   "source": [
    "## using pickle to store and load compiled function"
   ]
  },
  {
   "cell_type": "code",
   "execution_count": null,
   "metadata": {},
   "outputs": [],
   "source": [
    "import pickle\n",
    "\n",
    "with open('cache/f_x_sym.pkl', 'wb') as file:\n",
    "    pickle.dump(f_x_sym, file)\n",
    "with open('cache/f_u_sym.pkl', 'wb') as file:\n",
    "    pickle.dump(f_u_sym, file)\n",
    "    \n",
    "with open('cache/f_x_sym.pkl', 'rb') as file:\n",
    "    f_x_sym = pickle.load(file)\n",
    "with open('cache/f_u_sym.pkl', 'rb') as file:\n",
    "    f_u_sym = pickle.load(file)"
   ]
  },
  {
   "attachments": {},
   "cell_type": "markdown",
   "metadata": {},
   "source": [
    "## Computational time comparison\n",
    "    -- Looks like both methods take the same amount of time"
   ]
  },
  {
   "cell_type": "code",
   "execution_count": 3,
   "metadata": {},
   "outputs": [
    {
     "name": "stdout",
     "output_type": "stream",
     "text": [
      "9.870352820926892e-10\n",
      "1.4412884565725555e-09\n",
      "1.2058085528227375e-09\n",
      "1.4190596797587953e-09\n",
      "1.4129503690474529e-09\n",
      "1.1142161739289487e-09\n",
      "1.074477242042418e-09\n",
      "1.5587652998822268e-09\n",
      "1.5487571285029263e-09\n",
      "1.559850211810022e-09\n",
      "1.4208731209103267e-09\n",
      "9.13666224568009e-10\n",
      "1.5616212407093131e-09\n",
      "1.3609008753216463e-09\n",
      "1.3838381725928716e-09\n",
      "1.3125323099234738e-09\n",
      "9.295300713221706e-10\n",
      "1.099098864253098e-09\n",
      "1.0562302878811285e-09\n",
      "1.1136496533080784e-09\n",
      "9.440599486049073e-10\n",
      "1.5464957067114631e-09\n",
      "9.350063969036526e-10\n",
      "1.3023437280893966e-09\n",
      "1.5286976336023082e-09\n",
      "1.4756083292548813e-09\n",
      "1.380493026637022e-09\n",
      "9.33528604855791e-10\n",
      "1.365936734412217e-09\n",
      "1.4675255582121193e-09\n",
      "8.900985955619548e-10\n",
      "1.1136871886125294e-09\n",
      "1.3447997971530125e-09\n",
      "1.563940292456108e-09\n",
      "9.927024108551878e-10\n",
      "1.5637833524786732e-09\n",
      "9.319317835706694e-10\n",
      "1.5204671780462683e-09\n",
      "1.148716405957843e-09\n",
      "9.668658285760138e-10\n",
      "1.0128202728760137e-09\n",
      "1.4190845025670616e-09\n",
      "1.5397071687497343e-09\n",
      "1.0821471516588027e-09\n",
      "1.0536412827707538e-09\n",
      "1.14718035671805e-09\n",
      "1.2231075582447147e-09\n",
      "1.056594746059377e-09\n",
      "1.5086515779474605e-09\n",
      "1.5485048510646628e-09\n",
      "1.5664822348910565e-09\n",
      "1.292708223102262e-09\n",
      "1.2160788569122643e-09\n",
      "1.383121331225911e-09\n",
      "1.5363043763786999e-09\n",
      "1.5647992363544555e-09\n",
      "1.5200250775095864e-09\n",
      "9.087013334171223e-10\n",
      "1.4567464587006284e-09\n",
      "1.1905242961789393e-09\n",
      "1.5455478450823565e-09\n",
      "1.2775621124815619e-09\n",
      "1.3369392634821706e-09\n",
      "1.5603977291245442e-09\n",
      "1.5288839513890151e-09\n",
      "1.5442917522184219e-09\n",
      "1.3293113711714395e-09\n",
      "1.1422878116069995e-09\n",
      "1.081951755630448e-09\n",
      "9.266540253905133e-10\n",
      "1.1714682595670063e-09\n",
      "1.091502814593706e-09\n",
      "1.4413423375771245e-09\n",
      "1.4214099123125678e-09\n",
      "1.5426263599925996e-09\n",
      "1.3689128876013237e-09\n",
      "1.0688668520475862e-09\n",
      "1.5293528582919703e-09\n",
      "1.4145376394592956e-09\n",
      "1.5230825856633754e-09\n",
      "1.5518318783632014e-09\n",
      "1.5480027289173724e-09\n",
      "1.5466085981906874e-09\n",
      "1.1440821627788026e-09\n",
      "1.2637183437286168e-09\n",
      "1.3698692031424497e-09\n",
      "1.565973043839354e-09\n",
      "1.18898814561723e-09\n",
      "1.4863676534704356e-09\n",
      "1.0264556008616925e-09\n",
      "1.0799936344891958e-09\n",
      "1.5445596834652415e-09\n",
      "1.2628843604380708e-09\n",
      "1.4106362926613986e-09\n",
      "1.565442953424761e-09\n",
      "1.243266884289862e-09\n",
      "1.2606992235463907e-09\n",
      "1.5498792028285368e-09\n",
      "1.5242165865911213e-09\n",
      "1.0294482226135654e-09\n"
     ]
    },
    {
     "data": {
      "image/png": "[encoded data removed]",
      "text/plain": [
       "<Figure size 432x288 with 1 Axes>"
      ]
     },
     "metadata": {
      "needs_background": "light"
     },
     "output_type": "display_data"
    }
   ],
   "source": [
    "t_trace_sym = np.zeros(N)\n",
    "t_trace_df = np.zeros(N)\n",
    "\n",
    "for i in range(N):\n",
    "    dt0, x0, u0 = np.array([.05]), np.random.rand(n_x), np.random.rand(n_u)\n",
    "    \n",
    "    tStart = time.time()\n",
    "    f_xu = np.c_[f_x_sym(dt0, x0, u0), f_u_sym(dt0, x0, u0)]\n",
    "    t_trace_sym[i] = time.time() - tStart\n",
    "    \n",
    "    tStart = time.time()\n",
    "    f_xu_df = finiteDiff(RK4,dynamics_fd, x0, u0, dt0, 1e-4)\n",
    "    t_trace_df[i] = time.time() - tStart\n",
    "    \n",
    "    # print('{:.8f}'.format(t_trace_sym[i]))\n",
    "    print(np.linalg.norm(f_xu-f_xu_df))\n",
    "\n",
    "\n",
    "plt.plot(t_trace_df)\n",
    "plt.plot(t_trace_sym)\n",
    "plt.show()\n"
   ]
  }
 ],
 "metadata": {
  "kernelspec": {
   "display_name": "base",
   "language": "python",
   "name": "python3"
  },
  "language_info": {
   "codemirror_mode": {
    "name": "ipython",
    "version": 3
   },
   "file_extension": ".py",
   "mimetype": "text/x-python",
   "name": "python",
   "nbconvert_exporter": "python",
   "pygments_lexer": "ipython3",
   "version": "3.8.5"
  },
  "orig_nbformat": 4
 },
 "nbformat": 4,
 "nbformat_minor": 2
}
