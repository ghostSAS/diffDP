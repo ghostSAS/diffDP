{
 "cells": [
  {
   "cell_type": "code",
   "execution_count": 1,
   "metadata": {},
   "outputs": [],
   "source": [
    "'''\n",
    " swing up pendulum with limited torque\n",
    "'''\n",
    "import sympy as sp\n",
    "import numpy as np\n",
    "\n",
    "import sys\n",
    "sys.path.append('../')\n",
    "\n",
    "from ilqr import iLQR\n",
    "from ilqr.utils import GetSyms, Constrain, Bounded\n",
    "from ilqr.containers import Dynamics, Cost"
   ]
  },
  {
   "cell_type": "code",
   "execution_count": 6,
   "metadata": {},
   "outputs": [],
   "source": [
    "#state and action dimensions\n",
    "n_x = 4\n",
    "n_u = 1\n",
    "#time step\n",
    "dt = 0.02\n",
    "    \n",
    "def f(x,u,M=.5,m=.2,l=.3,b=.1,I=.006):\n",
    "    \"\"\" cart pendulum \n",
    "        model from: https://ctms.engin.umich.edu/CTMS/index.php?example=InvertedPendulum&section=SystemModeling\n",
    "            -- downwards: theta = 0\n",
    "            -- upwards: theta = np.pi\n",
    "        return: ddt[cart_position, arm_angle, cart_velocity, arm_rate]\n",
    "    \"\"\"\n",
    "    # \n",
    "    g = 9.81\n",
    "    [xi1, xi2, xi3, xi4] = x\n",
    "    xi5 = u[0]\n",
    "    m1 = M\n",
    "    m2 = m\n",
    "    xdot  = np.array([xi3,\n",
    "        xi4,\n",
    "        1/(m1+m2*(1-np.cos(xi2)**2))*(l*m2*np.sin(xi2)*xi4**2+xi5+m2*g*np.cos(xi2)*np.sin(xi2)),\n",
    "        -1/(l*m1+l*m2*(1-np.cos(xi2)**2))*(l*m2*np.cos(xi2)*np.sin(xi2)*(xi4)**2+xi5*np.cos(xi2)+(m1+m2)*g*np.sin(xi2))])\n",
    "    return xdot\n",
    "\n",
    "#call dynamics container\n",
    "dynS = Dynamics.Continuous(f, dt=dt)\n",
    "\n",
    "#Construct cost to swing up Pendulum\n",
    "x, u = GetSyms(n_x, n_u)\n",
    "#initial state\n",
    "#theta = pi --> sin(theta) = 0, cos(theta) = -1\n",
    "x0 = np.array([0, 0, 0, 0])\n",
    "#theta = 0 --> sin(theta) = 0, cos(theta) = 1\n",
    "x_goal = np.array([0, np.pi, 0, 0])\n",
    "\n",
    "Q  = np.diag([1, 10, 1, 1])*0\n",
    "R  = np.diag([0.3])\n",
    "QT = np.diag([10, 1000, 10, 10])\n",
    "#Add constraints on torque input (2Nm to -2Nm)\n",
    "cons = Bounded(u, high = [.7], low = [-.7])\n",
    "SwingUpCost = Cost.QR(Q, R, QT, x_goal, cons)\n",
    "\n"
   ]
  },
  {
   "cell_type": "code",
   "execution_count": 3,
   "metadata": {},
   "outputs": [],
   "source": [
    "#state and action dimensions\n",
    "n_x = 4\n",
    "n_u = 1\n",
    "#time step\n",
    "dt = 0.02\n",
    "\n",
    "def furuta_pen(x,u,m2=.127,l1=.2,l2=.3):\n",
    "    j1 = 0.0012\n",
    "    lc2 = 0.15\n",
    "    beta1 = 0.015\n",
    "    beta2 = 0.002\n",
    "    r = 2.6\n",
    "    kc = 0.00768\n",
    "    kv = kc\n",
    "    kr = 70\n",
    "    \n",
    "    g = 9.81\n",
    "\n",
    "    comm = r/(kc*kr)\n",
    "    a1 = comm*(j1+m2*l1**2)\n",
    "    a2 = comm*m2*l2**2/3\n",
    "    a3 = comm*m2*l1*l2/2\n",
    "    a4 = comm*m2*lc2*g\n",
    "    a5 = beta1*comm + kv\n",
    "    a6 = beta2*comm\n",
    "    \n",
    "    [xi1, xi2, xi3, xi4] = x\n",
    "    xi5 = u\n",
    "    cos = np.cos\n",
    "    sin = np.sin\n",
    "    \n",
    "    U = np.array([[a1+a2*sin(xi2)**2, a3*cos(xi2)],\n",
    "        [a3*cos(xi2), a2]])\n",
    "    V = np.array([a5*xi3-a3*sin(xi2)*xi4**2+2*a2*sin(xi2)*cos(xi2)*xi3*xi4,\n",
    "        -a2*sin(xi2)*cos(xi2)*xi3**2+a6*xi4-a4*sin(xi2)])\n",
    "\n",
    "    xdot = np.linalg.inv(U)@(np.array([xi5, 0]) - V)\n",
    "    \n",
    "    # return: ddt[arm1_theta, arm2_theta, arm1_rate, arm2_rate]\n",
    "    return xdot\n",
    "\n",
    "\n",
    "#call dynamics container\n",
    "dynS = Dynamics.Continuous(f, dt=dt)\n",
    "\n",
    "#Construct cost to swing up Pendulum\n",
    "x, u = GetSyms(n_x, n_u)\n",
    "#theta = 0 --> sin(theta) = 0, cos(theta) = 1\n",
    "x_goal = np.array([0, 0, 0, 0])\n",
    "#initial state\n",
    "#theta = pi --> sin(theta) = 0, cos(theta) = -1\n",
    "x0 = np.array([0, np.pi, 0, 0])\n",
    "\n",
    "Q  = np.diag([1, 10, 1, 1])*0\n",
    "R  = np.diag([0.3])\n",
    "QT = np.diag([10, 1000, 10, 10])\n",
    "#Add constraints on torque input (2Nm to -2Nm)\n",
    "cons = Bounded(u, high = [5], low = [-5])\n",
    "SwingUpCost = Cost.QR(Q, R, QT, x_goal, cons)"
   ]
  },
  {
   "cell_type": "code",
   "execution_count": 9,
   "metadata": {},
   "outputs": [],
   "source": [
    "\n",
    "\n",
    "#initialise the controller\n",
    "controller = iLQR(dynS, SwingUpCost)\n",
    "\n",
    "#initial guess\n",
    "us_init = np.random.randn(200, n_u)*0.0\n",
    "#get optimal states and actions\n",
    "xs, us, cost_trace = controller.fit(x0, us_init,maxiters=500)"
   ]
  },
  {
   "cell_type": "code",
   "execution_count": 10,
   "metadata": {},
   "outputs": [
    {
     "data": {
      "image/png": "[encoded data removed]",
      "text/plain": [
       "<Figure size 432x288 with 1 Axes>"
      ]
     },
     "metadata": {
      "needs_background": "light"
     },
     "output_type": "display_data"
    },
    {
     "data": {
      "image/png": "[encoded data removed]",
      "text/plain": [
       "<Figure size 432x288 with 1 Axes>"
      ]
     },
     "metadata": {
      "needs_background": "light"
     },
     "output_type": "display_data"
    },
    {
     "name": "stdout",
     "output_type": "stream",
     "text": [
      "[-0.06695308  3.10602712  0.02860755  0.42048669]\n"
     ]
    }
   ],
   "source": [
    "import matplotlib.pyplot as plt\n",
    "\n",
    "plt.figure(1)\n",
    "plt.plot(us)\n",
    "plt.plot(xs[:,1])\n",
    "\n",
    "plt.figure(2)\n",
    "plt.plot(cost_trace)\n",
    "plt.show()\n",
    "\n",
    "print(xs[-1,:])"
   ]
  }
 ],
 "metadata": {
  "kernelspec": {
   "display_name": "base",
   "language": "python",
   "name": "python3"
  },
  "language_info": {
   "codemirror_mode": {
    "name": "ipython",
    "version": 3
   },
   "file_extension": ".py",
   "mimetype": "text/x-python",
   "name": "python",
   "nbconvert_exporter": "python",
   "pygments_lexer": "ipython3",
   "version": "3.8.5"
  },
  "orig_nbformat": 4
 },
 "nbformat": 4,
 "nbformat_minor": 2
}
